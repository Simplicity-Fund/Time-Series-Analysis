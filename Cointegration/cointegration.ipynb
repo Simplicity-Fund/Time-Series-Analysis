{
 "cells": [
  {
   "cell_type": "markdown",
   "metadata": {},
   "source": [
    "## Cointegrated Variables"
   ]
  },
  {
   "cell_type": "code",
   "execution_count": 52,
   "metadata": {},
   "outputs": [],
   "source": [
    "from statsmodels.tsa.stattools import adfuller\n",
    "from statsmodels.tsa.stattools import coint\n",
    "from statsmodels.tsa.vector_ar.vecm import VECM\n",
    "\n",
    "import yfinance as yf\n",
    "import numpy as np\n",
    "import pandas as pd"
   ]
  },
  {
   "cell_type": "code",
   "execution_count": 42,
   "metadata": {},
   "outputs": [],
   "source": [
    "# Gather the datasets\n",
    "\n",
    "google_data = pd.read_csv('data/GOOGL.csv', parse_dates=['Date'], index_col='Date')\n",
    "apple_data = pd.read_csv('data/AAPL.csv', parse_dates=['Date'], index_col='Date')"
   ]
  },
  {
   "cell_type": "code",
   "execution_count": 43,
   "metadata": {},
   "outputs": [
    {
     "data": {
      "text/html": [
       "<div>\n",
       "<style scoped>\n",
       "    .dataframe tbody tr th:only-of-type {\n",
       "        vertical-align: middle;\n",
       "    }\n",
       "\n",
       "    .dataframe tbody tr th {\n",
       "        vertical-align: top;\n",
       "    }\n",
       "\n",
       "    .dataframe thead th {\n",
       "        text-align: right;\n",
       "    }\n",
       "</style>\n",
       "<table border=\"1\" class=\"dataframe\">\n",
       "  <thead>\n",
       "    <tr style=\"text-align: right;\">\n",
       "      <th></th>\n",
       "      <th>Unnamed: 0</th>\n",
       "      <th>Open</th>\n",
       "      <th>High</th>\n",
       "      <th>Low</th>\n",
       "      <th>Close</th>\n",
       "      <th>Volume</th>\n",
       "    </tr>\n",
       "    <tr>\n",
       "      <th>Date</th>\n",
       "      <th></th>\n",
       "      <th></th>\n",
       "      <th></th>\n",
       "      <th></th>\n",
       "      <th></th>\n",
       "      <th></th>\n",
       "    </tr>\n",
       "  </thead>\n",
       "  <tbody>\n",
       "    <tr>\n",
       "      <th>2017-01-09</th>\n",
       "      <td>0</td>\n",
       "      <td>27.407523</td>\n",
       "      <td>27.751425</td>\n",
       "      <td>27.405200</td>\n",
       "      <td>27.649183</td>\n",
       "      <td>134247600</td>\n",
       "    </tr>\n",
       "    <tr>\n",
       "      <th>2017-01-10</th>\n",
       "      <td>1</td>\n",
       "      <td>27.598065</td>\n",
       "      <td>27.739809</td>\n",
       "      <td>27.488855</td>\n",
       "      <td>27.677071</td>\n",
       "      <td>97848400</td>\n",
       "    </tr>\n",
       "    <tr>\n",
       "      <th>2017-01-11</th>\n",
       "      <td>2</td>\n",
       "      <td>27.591087</td>\n",
       "      <td>27.867603</td>\n",
       "      <td>27.558556</td>\n",
       "      <td>27.825777</td>\n",
       "      <td>110354400</td>\n",
       "    </tr>\n",
       "    <tr>\n",
       "      <th>2017-01-12</th>\n",
       "      <td>3</td>\n",
       "      <td>27.628269</td>\n",
       "      <td>27.721216</td>\n",
       "      <td>27.467936</td>\n",
       "      <td>27.709597</td>\n",
       "      <td>108344800</td>\n",
       "    </tr>\n",
       "    <tr>\n",
       "      <th>2017-01-13</th>\n",
       "      <td>4</td>\n",
       "      <td>27.677066</td>\n",
       "      <td>27.795573</td>\n",
       "      <td>27.607356</td>\n",
       "      <td>27.660801</td>\n",
       "      <td>104447600</td>\n",
       "    </tr>\n",
       "    <tr>\n",
       "      <th>...</th>\n",
       "      <td>...</td>\n",
       "      <td>...</td>\n",
       "      <td>...</td>\n",
       "      <td>...</td>\n",
       "      <td>...</td>\n",
       "      <td>...</td>\n",
       "    </tr>\n",
       "    <tr>\n",
       "      <th>2024-06-12</th>\n",
       "      <td>1868</td>\n",
       "      <td>207.369995</td>\n",
       "      <td>220.199997</td>\n",
       "      <td>206.899994</td>\n",
       "      <td>213.070007</td>\n",
       "      <td>198134300</td>\n",
       "    </tr>\n",
       "    <tr>\n",
       "      <th>2024-06-13</th>\n",
       "      <td>1869</td>\n",
       "      <td>214.740005</td>\n",
       "      <td>216.750000</td>\n",
       "      <td>211.600006</td>\n",
       "      <td>214.240005</td>\n",
       "      <td>97862700</td>\n",
       "    </tr>\n",
       "    <tr>\n",
       "      <th>2024-06-14</th>\n",
       "      <td>1870</td>\n",
       "      <td>213.850006</td>\n",
       "      <td>215.169998</td>\n",
       "      <td>211.300003</td>\n",
       "      <td>212.490005</td>\n",
       "      <td>70122700</td>\n",
       "    </tr>\n",
       "    <tr>\n",
       "      <th>2024-06-17</th>\n",
       "      <td>1871</td>\n",
       "      <td>213.369995</td>\n",
       "      <td>218.949997</td>\n",
       "      <td>212.720001</td>\n",
       "      <td>216.669998</td>\n",
       "      <td>93728300</td>\n",
       "    </tr>\n",
       "    <tr>\n",
       "      <th>2024-06-18</th>\n",
       "      <td>1872</td>\n",
       "      <td>217.589996</td>\n",
       "      <td>218.630005</td>\n",
       "      <td>213.000000</td>\n",
       "      <td>214.289993</td>\n",
       "      <td>79943300</td>\n",
       "    </tr>\n",
       "  </tbody>\n",
       "</table>\n",
       "<p>1873 rows × 6 columns</p>\n",
       "</div>"
      ],
      "text/plain": [
       "            Unnamed: 0        Open        High         Low       Close  \\\n",
       "Date                                                                     \n",
       "2017-01-09           0   27.407523   27.751425   27.405200   27.649183   \n",
       "2017-01-10           1   27.598065   27.739809   27.488855   27.677071   \n",
       "2017-01-11           2   27.591087   27.867603   27.558556   27.825777   \n",
       "2017-01-12           3   27.628269   27.721216   27.467936   27.709597   \n",
       "2017-01-13           4   27.677066   27.795573   27.607356   27.660801   \n",
       "...                ...         ...         ...         ...         ...   \n",
       "2024-06-12        1868  207.369995  220.199997  206.899994  213.070007   \n",
       "2024-06-13        1869  214.740005  216.750000  211.600006  214.240005   \n",
       "2024-06-14        1870  213.850006  215.169998  211.300003  212.490005   \n",
       "2024-06-17        1871  213.369995  218.949997  212.720001  216.669998   \n",
       "2024-06-18        1872  217.589996  218.630005  213.000000  214.289993   \n",
       "\n",
       "               Volume  \n",
       "Date                   \n",
       "2017-01-09  134247600  \n",
       "2017-01-10   97848400  \n",
       "2017-01-11  110354400  \n",
       "2017-01-12  108344800  \n",
       "2017-01-13  104447600  \n",
       "...               ...  \n",
       "2024-06-12  198134300  \n",
       "2024-06-13   97862700  \n",
       "2024-06-14   70122700  \n",
       "2024-06-17   93728300  \n",
       "2024-06-18   79943300  \n",
       "\n",
       "[1873 rows x 6 columns]"
      ]
     },
     "execution_count": 43,
     "metadata": {},
     "output_type": "execute_result"
    }
   ],
   "source": [
    "apple_data"
   ]
  },
  {
   "cell_type": "code",
   "execution_count": 44,
   "metadata": {},
   "outputs": [
    {
     "data": {
      "text/html": [
       "<div>\n",
       "<style scoped>\n",
       "    .dataframe tbody tr th:only-of-type {\n",
       "        vertical-align: middle;\n",
       "    }\n",
       "\n",
       "    .dataframe tbody tr th {\n",
       "        vertical-align: top;\n",
       "    }\n",
       "\n",
       "    .dataframe thead th {\n",
       "        text-align: right;\n",
       "    }\n",
       "</style>\n",
       "<table border=\"1\" class=\"dataframe\">\n",
       "  <thead>\n",
       "    <tr style=\"text-align: right;\">\n",
       "      <th></th>\n",
       "      <th>Unnamed: 0</th>\n",
       "      <th>Open</th>\n",
       "      <th>High</th>\n",
       "      <th>Low</th>\n",
       "      <th>Close</th>\n",
       "      <th>Volume</th>\n",
       "    </tr>\n",
       "    <tr>\n",
       "      <th>Date</th>\n",
       "      <th></th>\n",
       "      <th></th>\n",
       "      <th></th>\n",
       "      <th></th>\n",
       "      <th></th>\n",
       "      <th></th>\n",
       "    </tr>\n",
       "  </thead>\n",
       "  <tbody>\n",
       "    <tr>\n",
       "      <th>2017-01-09</th>\n",
       "      <td>0</td>\n",
       "      <td>41.271134</td>\n",
       "      <td>41.473900</td>\n",
       "      <td>41.033907</td>\n",
       "      <td>41.311588</td>\n",
       "      <td>28178000</td>\n",
       "    </tr>\n",
       "    <tr>\n",
       "      <th>2017-01-10</th>\n",
       "      <td>1</td>\n",
       "      <td>41.306095</td>\n",
       "      <td>41.422962</td>\n",
       "      <td>41.109822</td>\n",
       "      <td>41.253155</td>\n",
       "      <td>23948000</td>\n",
       "    </tr>\n",
       "    <tr>\n",
       "      <th>2017-01-11</th>\n",
       "      <td>2</td>\n",
       "      <td>41.283622</td>\n",
       "      <td>41.447431</td>\n",
       "      <td>41.026417</td>\n",
       "      <td>41.445435</td>\n",
       "      <td>26508000</td>\n",
       "    </tr>\n",
       "    <tr>\n",
       "      <th>2017-01-12</th>\n",
       "      <td>3</td>\n",
       "      <td>41.371518</td>\n",
       "      <td>41.471406</td>\n",
       "      <td>41.003441</td>\n",
       "      <td>41.428955</td>\n",
       "      <td>26990000</td>\n",
       "    </tr>\n",
       "    <tr>\n",
       "      <th>2017-01-13</th>\n",
       "      <td>4</td>\n",
       "      <td>41.502365</td>\n",
       "      <td>41.684655</td>\n",
       "      <td>41.428453</td>\n",
       "      <td>41.499371</td>\n",
       "      <td>25804000</td>\n",
       "    </tr>\n",
       "    <tr>\n",
       "      <th>...</th>\n",
       "      <td>...</td>\n",
       "      <td>...</td>\n",
       "      <td>...</td>\n",
       "      <td>...</td>\n",
       "      <td>...</td>\n",
       "      <td>...</td>\n",
       "    </tr>\n",
       "    <tr>\n",
       "      <th>2024-06-12</th>\n",
       "      <td>1868</td>\n",
       "      <td>178.250000</td>\n",
       "      <td>180.410004</td>\n",
       "      <td>176.110001</td>\n",
       "      <td>177.789993</td>\n",
       "      <td>27864700</td>\n",
       "    </tr>\n",
       "    <tr>\n",
       "      <th>2024-06-13</th>\n",
       "      <td>1869</td>\n",
       "      <td>176.110001</td>\n",
       "      <td>176.740005</td>\n",
       "      <td>174.880005</td>\n",
       "      <td>175.160004</td>\n",
       "      <td>20913300</td>\n",
       "    </tr>\n",
       "    <tr>\n",
       "      <th>2024-06-14</th>\n",
       "      <td>1870</td>\n",
       "      <td>174.220001</td>\n",
       "      <td>177.059998</td>\n",
       "      <td>174.149994</td>\n",
       "      <td>176.789993</td>\n",
       "      <td>18063600</td>\n",
       "    </tr>\n",
       "    <tr>\n",
       "      <th>2024-06-17</th>\n",
       "      <td>1871</td>\n",
       "      <td>175.460007</td>\n",
       "      <td>178.360001</td>\n",
       "      <td>174.809998</td>\n",
       "      <td>177.240005</td>\n",
       "      <td>19618500</td>\n",
       "    </tr>\n",
       "    <tr>\n",
       "      <th>2024-06-18</th>\n",
       "      <td>1872</td>\n",
       "      <td>177.139999</td>\n",
       "      <td>177.389999</td>\n",
       "      <td>174.100006</td>\n",
       "      <td>175.089996</td>\n",
       "      <td>21869900</td>\n",
       "    </tr>\n",
       "  </tbody>\n",
       "</table>\n",
       "<p>1873 rows × 6 columns</p>\n",
       "</div>"
      ],
      "text/plain": [
       "            Unnamed: 0        Open        High         Low       Close  \\\n",
       "Date                                                                     \n",
       "2017-01-09           0   41.271134   41.473900   41.033907   41.311588   \n",
       "2017-01-10           1   41.306095   41.422962   41.109822   41.253155   \n",
       "2017-01-11           2   41.283622   41.447431   41.026417   41.445435   \n",
       "2017-01-12           3   41.371518   41.471406   41.003441   41.428955   \n",
       "2017-01-13           4   41.502365   41.684655   41.428453   41.499371   \n",
       "...                ...         ...         ...         ...         ...   \n",
       "2024-06-12        1868  178.250000  180.410004  176.110001  177.789993   \n",
       "2024-06-13        1869  176.110001  176.740005  174.880005  175.160004   \n",
       "2024-06-14        1870  174.220001  177.059998  174.149994  176.789993   \n",
       "2024-06-17        1871  175.460007  178.360001  174.809998  177.240005   \n",
       "2024-06-18        1872  177.139999  177.389999  174.100006  175.089996   \n",
       "\n",
       "              Volume  \n",
       "Date                  \n",
       "2017-01-09  28178000  \n",
       "2017-01-10  23948000  \n",
       "2017-01-11  26508000  \n",
       "2017-01-12  26990000  \n",
       "2017-01-13  25804000  \n",
       "...              ...  \n",
       "2024-06-12  27864700  \n",
       "2024-06-13  20913300  \n",
       "2024-06-14  18063600  \n",
       "2024-06-17  19618500  \n",
       "2024-06-18  21869900  \n",
       "\n",
       "[1873 rows x 6 columns]"
      ]
     },
     "execution_count": 44,
     "metadata": {},
     "output_type": "execute_result"
    }
   ],
   "source": [
    "google_data"
   ]
  },
  {
   "cell_type": "markdown",
   "metadata": {},
   "source": [
    "### Testing for Stationarity"
   ]
  },
  {
   "cell_type": "code",
   "execution_count": 45,
   "metadata": {},
   "outputs": [],
   "source": [
    "def adf_test(series):\n",
    "    '''\n",
    "    Perform ADF test and print results.\n",
    "    '''\n",
    "    result = adfuller(series)\n",
    "    labels = ['ADF Statistic', 'p-value', '# Lags Used', 'Number of Observations Used']\n",
    "    out = dict(zip(labels, result[:4]))\n",
    "    for key, val in out.items():\n",
    "        print(f'{key}: {val}')\n",
    "    for key, val in result[4].items():\n",
    "        print(f'Critical Value {key}: {val}')\n",
    "    print(\"\\n\")"
   ]
  },
  {
   "cell_type": "code",
   "execution_count": 46,
   "metadata": {},
   "outputs": [
    {
     "name": "stdout",
     "output_type": "stream",
     "text": [
      "ADF Statistic: -0.16749913317425194\n",
      "p-value: 0.9422863752570497\n",
      "# Lags Used: 0\n",
      "Number of Observations Used: 1872\n",
      "Critical Value 1%: -3.4338480179204556\n",
      "Critical Value 5%: -2.863085177979608\n",
      "Critical Value 10%: -2.567592596439203\n",
      "\n",
      "\n"
     ]
    }
   ],
   "source": [
    "adf_test(apple_data['Close'])"
   ]
  },
  {
   "cell_type": "code",
   "execution_count": 47,
   "metadata": {},
   "outputs": [
    {
     "name": "stdout",
     "output_type": "stream",
     "text": [
      "ADF Statistic: 0.20347529085206237\n",
      "p-value: 0.9724558401866943\n",
      "# Lags Used: 9\n",
      "Number of Observations Used: 1863\n",
      "Critical Value 1%: -3.433864939927475\n",
      "Critical Value 5%: -2.8630926485318433\n",
      "Critical Value 10%: -2.567596574226058\n",
      "\n",
      "\n"
     ]
    }
   ],
   "source": [
    "adf_test(google_data['Close'])"
   ]
  },
  {
   "cell_type": "markdown",
   "metadata": {},
   "source": [
    "### Testing for Cointegration"
   ]
  },
  {
   "cell_type": "markdown",
   "metadata": {},
   "source": [
    "### Engle-Granger Test"
   ]
  },
  {
   "cell_type": "code",
   "execution_count": 48,
   "metadata": {},
   "outputs": [
    {
     "name": "stdout",
     "output_type": "stream",
     "text": [
      "---Engle-Granger Cointegration Test---\n",
      "Cointegration Test Statistic: -2.373910484271602\n",
      "p-value: 0.3373090317685453\n",
      "Critical Values: [-3.90229994 -3.33939589 -3.04671637]\n"
     ]
    }
   ],
   "source": [
    "# Test for cointegration between X and Y\n",
    "coint_result = coint(apple_data['Close'], google_data['Close'])\n",
    "\n",
    "print(f'---Engle-Granger Cointegration Test---')\n",
    "print(f'Cointegration Test Statistic: {coint_result[0]}')\n",
    "print(f'p-value: {coint_result[1]}')\n",
    "print(f'Critical Values: {coint_result[2]}')\n"
   ]
  },
  {
   "cell_type": "markdown",
   "metadata": {},
   "source": [
    "Interpretation:\n",
    "* If the test statistic is lower than the critical values at 1%, 5%, or 10%, we reject the null hypothesis of no cointegration.\n",
    "* A low p-value (e.g., < 0.05) suggests that the series are cointegrated."
   ]
  },
  {
   "cell_type": "markdown",
   "metadata": {},
   "source": [
    "### Error Correction Model (ECM)\n",
    "\n",
    "If the variables are cointegrated, you can proceed to estimate an Error Correction Model (ECM), which helps model both short-term and long-term dynamics."
   ]
  },
  {
   "cell_type": "code",
   "execution_count": 51,
   "metadata": {},
   "outputs": [
    {
     "name": "stdout",
     "output_type": "stream",
     "text": [
      "Apple     0\n",
      "Google    0\n",
      "dtype: int64\n",
      "Det. terms outside the coint. relation & lagged endog. parameters for equation Apple\n",
      "==============================================================================\n",
      "                 coef    std err          z      P>|z|      [0.025      0.975]\n",
      "------------------------------------------------------------------------------\n",
      "L1.Apple      -0.0346      0.029     -1.202      0.229      -0.091       0.022\n",
      "L1.Google      0.0157      0.034      0.469      0.639      -0.050       0.081\n",
      "Det. terms outside the coint. relation & lagged endog. parameters for equation Google\n",
      "==============================================================================\n",
      "                 coef    std err          z      P>|z|      [0.025      0.975]\n",
      "------------------------------------------------------------------------------\n",
      "L1.Apple      -0.0253      0.025     -1.025      0.305      -0.074       0.023\n",
      "L1.Google     -0.0391      0.029     -1.357      0.175      -0.096       0.017\n",
      "               Loading coefficients (alpha) for equation Apple                \n",
      "==============================================================================\n",
      "                 coef    std err          z      P>|z|      [0.025      0.975]\n",
      "------------------------------------------------------------------------------\n",
      "ec1           -0.0039      0.002     -2.514      0.012      -0.007      -0.001\n",
      "               Loading coefficients (alpha) for equation Google               \n",
      "==============================================================================\n",
      "                 coef    std err          z      P>|z|      [0.025      0.975]\n",
      "------------------------------------------------------------------------------\n",
      "ec1           -0.0013      0.001     -0.989      0.323      -0.004       0.001\n",
      "          Cointegration relations for loading-coefficients-column 1           \n",
      "==============================================================================\n",
      "                 coef    std err          z      P>|z|      [0.025      0.975]\n",
      "------------------------------------------------------------------------------\n",
      "beta.1         1.0000          0          0      0.000       1.000       1.000\n",
      "beta.2        -1.4388      0.124    -11.589      0.000      -1.682      -1.195\n",
      "==============================================================================\n"
     ]
    }
   ],
   "source": [
    "data = pd.DataFrame(apple_data['Close'].values, columns=['Apple'])\n",
    "data['Google'] = google_data['Close'].values\n",
    "\n",
    "# Check for NaN or non-numeric data\n",
    "print(data.isnull().sum())  # This will show any missing values\n",
    "\n",
    "# Optionally drop missing values\n",
    "data = data.dropna()\n",
    "\n",
    "vecm_model = VECM(data, k_ar_diff=1, coint_rank=1)\n",
    "vecm_fit = vecm_model.fit()\n",
    "\n",
    "# Summary of the VECM model\n",
    "print(vecm_fit.summary())\n"
   ]
  },
  {
   "cell_type": "markdown",
   "metadata": {},
   "source": [
    "## Cola vs Pepsi"
   ]
  },
  {
   "cell_type": "code",
   "execution_count": 40,
   "metadata": {},
   "outputs": [
    {
     "name": "stderr",
     "output_type": "stream",
     "text": [
      "[*********************100%***********************]  1 of 1 completed"
     ]
    },
    {
     "name": "stderr",
     "output_type": "stream",
     "text": [
      "\n",
      "[*********************100%***********************]  1 of 1 completed"
     ]
    },
    {
     "name": "stdout",
     "output_type": "stream",
     "text": [
      "ADF Statistic: -0.987211447103292\n",
      "p-value: 0.7579000078934196\n",
      "# Lags Used: 12\n",
      "Number of Observations Used: 743\n",
      "Critical Value 1%: -3.439181811684251\n",
      "Critical Value 5%: -2.865437807603377\n",
      "Critical Value 10%: -2.5688456132154935\n",
      "\n",
      "\n",
      "ADF Statistic: -0.8326557351201618\n",
      "p-value: 0.8093410247745684\n",
      "# Lags Used: 9\n",
      "Number of Observations Used: 746\n",
      "Critical Value 1%: -3.439146171679794\n",
      "Critical Value 5%: -2.865422101274577\n",
      "Critical Value 10%: -2.568837245865348\n",
      "\n",
      "\n",
      "Engle-Granger Test p-value: 0.09340001664225933\n"
     ]
    },
    {
     "name": "stderr",
     "output_type": "stream",
     "text": [
      "\n"
     ]
    }
   ],
   "source": [
    "# Download stock data from Yahoo Finance\n",
    "ko = yf.download('KO', start='2020-01-01', end='2023-01-01')['Adj Close']\n",
    "pep = yf.download('PEP', start='2020-01-01', end='2023-01-01')['Adj Close']\n",
    "\n",
    "# Create DataFrame\n",
    "df_stocks = pd.DataFrame({'KO': ko, 'PEP': pep})\n",
    "\n",
    "# Check for Stationarity (ADF Test)\n",
    "adf_test(df_stocks['KO'])\n",
    "adf_test(df_stocks['PEP'])\n",
    "\n",
    "# Test for Cointegration (Engle-Granger)\n",
    "coint_result_stocks = coint(df_stocks['KO'], df_stocks['PEP'])\n",
    "print(f'Engle-Granger Test p-value: {coint_result_stocks[1]}')\n"
   ]
  },
  {
   "cell_type": "code",
   "execution_count": null,
   "metadata": {},
   "outputs": [],
   "source": []
  }
 ],
 "metadata": {
  "kernelspec": {
   "display_name": "env",
   "language": "python",
   "name": "python3"
  },
  "language_info": {
   "codemirror_mode": {
    "name": "ipython",
    "version": 3
   },
   "file_extension": ".py",
   "mimetype": "text/x-python",
   "name": "python",
   "nbconvert_exporter": "python",
   "pygments_lexer": "ipython3",
   "version": "3.10.3"
  }
 },
 "nbformat": 4,
 "nbformat_minor": 2
}
